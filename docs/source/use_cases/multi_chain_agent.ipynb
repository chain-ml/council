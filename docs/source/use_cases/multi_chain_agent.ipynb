{
 "cells": [
  {
   "cell_type": "markdown",
   "source": [
    "# Multi Chain Agent\n",
    "\n",
    "### Introduction\n",
    "In this notebook, we will build and test an agent capable of answering questions on different topics.\n",
    "The agent will be composed of:\n",
    "\n",
    "### Agent Overview\n",
    "- a **LLM Controller** The LLM (Language Model) Controller is responsible for selecting the relevant chains. It utilizes a specific mechanism or logic to identify the most appropriate chain based on the given question.\n",
    "- multiple chains:\n",
    "    - **Finance Chain**: This chain specializes in answering questions related to finance. It possesses knowledge and expertise in the finance domain to provide accurate responses.\n",
    "    - **Video Games Chain**: This chain focuses on answering questions about video games. It is trained or designed specifically to provide information related to the gaming industry.\n",
    "    - **Fake Chain**: The Fake Chain pretends to be an expert on every topic but deliberately provides irrelevant answers.\n",
    "- a **LLM Evaluator** able to filter irrelevant answers. It assesses the responses provided by the chains and determines their relevance based on a specific evaluation process or criteria.\n",
    "\n",
    "### Agent Implementation"
   ],
   "metadata": {
    "collapsed": false
   }
  },
  {
   "cell_type": "code",
   "execution_count": null,
   "outputs": [],
   "source": [
    "import logging\n",
    "\n",
    "logging.basicConfig(\n",
    "    format=\"[%(asctime)s %(levelname)s %(threadName)s %(name)s:%(funcName)s:%(lineno)s] %(message)s\",\n",
    "    datefmt=\"%Y-%m-%d %H:%M:%S%z\",\n",
    ")\n",
    "## uncomment me to see the engine logs\n",
    "# logging.getLogger(\"council\").setLevel(logging.DEBUG)"
   ],
   "metadata": {
    "collapsed": false
   }
  },
  {
   "cell_type": "code",
   "execution_count": null,
   "outputs": [],
   "source": [
    "from council.chains import Chain\n",
    "from council.skills import LLMSkill\n",
    "from council.llm import AzureLLM, AzureLLMConfiguration\n",
    "import dotenv"
   ],
   "metadata": {
    "collapsed": false
   }
  },
  {
   "cell_type": "markdown",
   "source": [
    "First, we create a client to call an LLM hosted on Azure"
   ],
   "metadata": {
    "collapsed": false
   }
  },
  {
   "cell_type": "code",
   "execution_count": null,
   "outputs": [],
   "source": [
    "dotenv.load_dotenv()\n",
    "azure_llm = AzureLLM(config=AzureLLMConfiguration.from_env())"
   ],
   "metadata": {
    "collapsed": false
   }
  },
  {
   "cell_type": "markdown",
   "source": [
    "Then, we create a Skill and a Chain to answer questions about finance"
   ],
   "metadata": {
    "collapsed": false
   }
  },
  {
   "cell_type": "code",
   "execution_count": null,
   "outputs": [],
   "source": [
    "prompt = \"you are an assistant expert in Finance. When asked about something else, say you don't know\"\n",
    "finance_skill = LLMSkill(llm=azure_llm, system_prompt=prompt)\n",
    "finance_chain = Chain(name=\"finance\", description=\"answer questions about finance\", runners=[finance_skill])"
   ],
   "metadata": {
    "collapsed": false
   }
  },
  {
   "cell_type": "markdown",
   "source": [
    "And add another Chain expert about gaming"
   ],
   "metadata": {
    "collapsed": false
   }
  },
  {
   "cell_type": "code",
   "execution_count": null,
   "outputs": [],
   "source": [
    "game_prompt = \"you are an expert in video games. When asked about something else, say you don't know\"\n",
    "game_skill = LLMSkill(llm=azure_llm, system_prompt=game_prompt)\n",
    "game_chain = Chain(name=\"game\", description=\"answer questions about Video games\", runners=[game_skill])"
   ],
   "metadata": {
    "collapsed": false
   }
  },
  {
   "cell_type": "markdown",
   "source": [
    "Let's add a Chain with would provide random answer but pretend to always be relevant"
   ],
   "metadata": {
    "collapsed": false
   }
  },
  {
   "cell_type": "code",
   "execution_count": null,
   "outputs": [],
   "source": [
    "fake_prompt = \"you will provide an answer not related to the question\"\n",
    "fake_skill = LLMSkill(llm=azure_llm, system_prompt=fake_prompt)\n",
    "fake_chain = Chain(name=\"fake\", description=\"Can answer all questions\", runners=[fake_skill])"
   ],
   "metadata": {
    "collapsed": false
   }
  },
  {
   "cell_type": "markdown",
   "source": [
    "Now, we create an LLM based controller"
   ],
   "metadata": {
    "collapsed": false
   }
  },
  {
   "cell_type": "code",
   "execution_count": null,
   "outputs": [],
   "source": [
    "from council.controllers import LLMController\n",
    "\n",
    "controller = LLMController(llm=azure_llm, response_threshold=5)"
   ],
   "metadata": {
    "collapsed": false
   }
  },
  {
   "cell_type": "markdown",
   "source": [
    "And an LLM based evaluator"
   ],
   "metadata": {
    "collapsed": false
   }
  },
  {
   "cell_type": "code",
   "execution_count": null,
   "outputs": [],
   "source": [
    "from council.evaluators import LLMEvaluator\n",
    "\n",
    "evaluator = LLMEvaluator(llm=azure_llm)"
   ],
   "metadata": {
    "collapsed": false
   }
  },
  {
   "cell_type": "markdown",
   "source": [
    "Lastly, let's wrap up everything by creating an Agent"
   ],
   "metadata": {
    "collapsed": false
   }
  },
  {
   "cell_type": "code",
   "execution_count": null,
   "outputs": [],
   "source": [
    "from council.agents import Agent\n",
    "from council.runners import Budget\n",
    "\n",
    "agent = Agent(controller=controller, chains=[finance_chain, game_chain, fake_chain], evaluator=evaluator)"
   ],
   "metadata": {
    "collapsed": false
   }
  },
  {
   "cell_type": "markdown",
   "source": [
    "Now, we are ready to invoke the agent"
   ],
   "metadata": {
    "collapsed": false
   }
  },
  {
   "cell_type": "code",
   "execution_count": null,
   "outputs": [],
   "source": [
    "from council.contexts import AgentContext, ChatHistory\n",
    "\n",
    "chat_history = ChatHistory()\n",
    "chat_history.add_user_message(message=\"what is inflation?\")\n",
    "# chat_history.add_user_message(\"what are the most popular video games?\")\n",
    "# chat_history.add_user_message(\"what is the age of the captain?\")\n",
    "context = AgentContext(chat_history=chat_history)\n",
    "result = agent.execute(context=context, budget=Budget(20))\n",
    "print(\"responses:\")\n",
    "for item in result.messages:\n",
    "    print(\"----\")\n",
    "    print(f\"score:\", item.score)\n",
    "    print(item.message.message)"
   ],
   "metadata": {
    "collapsed": false
   }
  },
  {
   "cell_type": "markdown",
   "source": [
    "### Agent Test\n",
    "Let's create a test suite with a set of prompts and expected answers.\n",
    "We'll use a LLM to score the similarity of the response from the agent and expected response"
   ],
   "metadata": {
    "collapsed": false
   }
  },
  {
   "cell_type": "code",
   "execution_count": null,
   "outputs": [],
   "source": [
    "from council.agent_tests import AgentTestSuite, AgentTestCase\n",
    "from council.scorers import LLMSimilarityScorer\n",
    "import json\n",
    "\n",
    "tests = [\n",
    "    AgentTestCase(\n",
    "        prompt=\"What is inflation\",\n",
    "        scorers=[\n",
    "            LLMSimilarityScorer(\n",
    "                llm=azure_llm,\n",
    "                expected=\"Inflation is the rate at which the general level of prices for goods and services is rising, and, subsequently, purchasing power is falling\",\n",
    "            )\n",
    "        ],\n",
    "    ),\n",
    "    AgentTestCase(\n",
    "        prompt=\"What are the most popular video games\",\n",
    "        scorers=[LLMSimilarityScorer(llm=azure_llm, expected=\"The most popular video games are: ...\")],\n",
    "    ),\n",
    "    AgentTestCase(\n",
    "        prompt=\"What are the most popular movies\",\n",
    "        scorers=[LLMSimilarityScorer(llm=azure_llm, expected=\"The most popular movies are ...\")],\n",
    "    ),\n",
    "]\n",
    "\n",
    "suite = AgentTestSuite(test_cases=tests)\n",
    "result = suite.run(agent)"
   ],
   "metadata": {
    "collapsed": false
   }
  },
  {
   "cell_type": "markdown",
   "source": [
    "And print the test result"
   ],
   "metadata": {
    "collapsed": false
   }
  },
  {
   "cell_type": "code",
   "execution_count": null,
   "outputs": [],
   "source": [
    "print(json.dumps(result.to_dict(), indent=2))"
   ],
   "metadata": {
    "collapsed": false
   }
  },
  {
   "cell_type": "markdown",
   "source": [
    "### Conclusion\n",
    "The question-answering agent combines the power of the LLM Controller, specialized chains, and the LLM Evaluator to provide accurate and relevant responses. Further improvements and enhancements can be made to refine the agent's performance and expand its capabilities."
   ],
   "metadata": {
    "collapsed": false
   }
  }
 ],
 "metadata": {
  "kernelspec": {
   "display_name": "Python 3",
   "language": "python",
   "name": "python3"
  },
  "language_info": {
   "codemirror_mode": {
    "name": "ipython",
    "version": 2
   },
   "file_extension": ".py",
   "mimetype": "text/x-python",
   "name": "python",
   "nbconvert_exporter": "python",
   "pygments_lexer": "ipython2",
   "version": "2.7.6"
  }
 },
 "nbformat": 4,
 "nbformat_minor": 0
}
