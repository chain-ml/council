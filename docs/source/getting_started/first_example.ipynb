{
 "cells": [
  {
   "cell_type": "markdown",
   "source": [
    "# First Example"
   ],
   "metadata": {
    "collapsed": false
   }
  },
  {
   "cell_type": "markdown",
   "source": [
    "Import Council."
   ],
   "metadata": {
    "collapsed": false
   }
  },
  {
   "cell_type": "code",
   "execution_count": null,
   "outputs": [],
   "source": [
    "from council.chains import Chain\n",
    "from council.skills import LLMSkill\n",
    "from council.llm import OpenAILLM, OpenAILLMConfiguration\n"
   ],
   "metadata": {
    "collapsed": false
   }
  },
  {
   "cell_type": "markdown",
   "source": [
    "Setup API keys in .env file (example in repository) and use it to setup the LLM (here: OpenAILLM)."
   ],
   "metadata": {
    "collapsed": false
   }
  },
  {
   "cell_type": "code",
   "execution_count": null,
   "outputs": [],
   "source": [
    "import dotenv\n",
    "\n",
    "dotenv.load_dotenv()\n",
    "openai_llm = OpenAILLM(config=OpenAILLMConfiguration.from_env())\n"
   ],
   "metadata": {
    "collapsed": false
   }
  },
  {
   "cell_type": "markdown",
   "source": [
    "Create your first Hello World Skill and Wrap it in a Chain.\n"
   ],
   "metadata": {
    "collapsed": false
   }
  },
  {
   "cell_type": "code",
   "execution_count": null,
   "outputs": [],
   "source": [
    "prompt = \"You are responding to every prompt with a short poem titled hello world\"\n",
    "hw_skill = LLMSkill(llm=openai_llm, system_prompt=prompt)\n",
    "hw_chain = Chain(name=\"Hello World\", description=\"Answers with a poem about titled Hello World\", runners=[hw_skill])\n"
   ],
   "metadata": {
    "collapsed": false
   }
  },
  {
   "cell_type": "markdown",
   "source": [
    "Create a second Skill (that responds only with Emojis).\n"
   ],
   "metadata": {
    "collapsed": false
   }
  },
  {
   "cell_type": "code",
   "execution_count": null,
   "outputs": [],
   "source": [
    "prompt = \"You are responding to every prompt with an emoji that best addresses the question asked or statement made\"\n",
    "em_skill = LLMSkill(llm=openai_llm, system_prompt=prompt)\n",
    "em_chain = Chain(name=\"Emoji Agent\", description=\"Responds to every prompt with an emoji that best fits the prompt\",\n",
    "                 runners=[em_skill])"
   ],
   "metadata": {
    "collapsed": false
   }
  },
  {
   "cell_type": "markdown",
   "source": [
    "Create a Controller to route prompts to chains. Here we use the straight-forward LLMController in which an LLM instance is tasked to make a routing decision.\n"
   ],
   "metadata": {
    "collapsed": false
   }
  },
  {
   "cell_type": "code",
   "execution_count": null,
   "outputs": [],
   "source": [
    "from council.controllers import LLMController\n",
    "\n",
    "controller = LLMController(llm=openai_llm, response_threshold=5)\n"
   ],
   "metadata": {
    "collapsed": false
   }
  },
  {
   "cell_type": "markdown",
   "source": [
    "Create an Evaluator. Here, we use an LLMEvaluator in which an LLM is tasked to evaluate each response received.\n"
   ],
   "metadata": {
    "collapsed": false
   }
  },
  {
   "cell_type": "code",
   "execution_count": null,
   "outputs": [],
   "source": [
    "from council.evaluators import LLMEvaluator\n",
    "\n",
    "evaluator = LLMEvaluator(llm=openai_llm)\n"
   ],
   "metadata": {
    "collapsed": false
   }
  },
  {
   "cell_type": "markdown",
   "source": [
    "Finalize setup of the Hello World first Agent by combining all components created.\n"
   ],
   "metadata": {
    "collapsed": false
   }
  },
  {
   "cell_type": "code",
   "execution_count": null,
   "outputs": [],
   "source": [
    "from council.agents import Agent\n",
    "\n",
    "agent = Agent(controller=controller, chains=[hw_chain, em_chain], evaluator=evaluator)\n"
   ],
   "metadata": {
    "collapsed": false
   }
  },
  {
   "cell_type": "markdown",
   "source": [
    "Now, we are ready to invoke the agent.\n"
   ],
   "metadata": {
    "collapsed": false
   }
  },
  {
   "cell_type": "code",
   "execution_count": null,
   "outputs": [],
   "source": [
    "result = agent.execute_from_user_message(\"hello world?!\")\n",
    "print(result.best_message.message)\n"
   ],
   "metadata": {
    "collapsed": false
   }
  },
  {
   "cell_type": "code",
   "execution_count": null,
   "outputs": [],
   "source": [],
   "metadata": {
    "collapsed": false
   }
  }
 ],
 "metadata": {
  "kernelspec": {
   "display_name": "Python 3",
   "language": "python",
   "name": "python3"
  },
  "language_info": {
   "codemirror_mode": {
    "name": "ipython",
    "version": 2
   },
   "file_extension": ".py",
   "mimetype": "text/x-python",
   "name": "python",
   "nbconvert_exporter": "python",
   "pygments_lexer": "ipython2",
   "version": "2.7.6"
  }
 },
 "nbformat": 4,
 "nbformat_minor": 0
}
